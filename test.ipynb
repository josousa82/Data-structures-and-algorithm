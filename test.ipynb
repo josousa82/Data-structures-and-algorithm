{
 "cells": [
  {
   "cell_type": "code",
   "execution_count": 1,
   "metadata": {
    "collapsed": true
   },
   "outputs": [
    {
     "name": "stdout",
     "output_type": "stream",
     "text": [
      "[{'base_url': '/', 'hostname': 'localhost', 'notebook_dir': '/Users/sousaJ/Desktop/projects/work/Data Structures and Algorithms', 'password': False, 'pid': 58256, 'port': 8886, 'secure': False, 'sock': '', 'token': '25090f797ebce290b1270fc5bdc7e32a207ca8d4b6632817', 'url': 'http://localhost:8886/'}]\n"
     ]
    }
   ],
   "source": [
    "from notebook import notebookapp\n",
    "servers = list(notebookapp.list_running_servers())\n",
    "print(servers)\n",
    "\n",
    "\n"
   ]
  },
  {
   "cell_type": "raw",
   "source": [
    "\n"
   ],
   "metadata": {
    "collapsed": false
   }
  }
 ],
 "metadata": {
  "kernelspec": {
   "name": "java",
   "language": "java",
   "display_name": "Java"
  },
  "language_info": {
   "codemirror_mode": {
    "name": "ipython",
    "version": 2
   },
   "file_extension": ".py",
   "mimetype": "text/x-python",
   "name": "python",
   "nbconvert_exporter": "python",
   "pygments_lexer": "ipython2",
   "version": "2.7.6"
  }
 },
 "nbformat": 4,
 "nbformat_minor": 0
}