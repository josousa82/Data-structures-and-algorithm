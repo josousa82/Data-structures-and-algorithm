{
 "cells": [
  {
   "cell_type": "markdown",
   "id": "biological-mambo",
   "metadata": {},
   "source": [
    "### INTRODUCING THE SINGLE‐THREAD EXECUTOR "
   ]
  },
  {
   "cell_type": "markdown",
   "id": "systematic-train",
   "metadata": {},
   "source": [
    "With a single‐thread executor, results are guaranteed to be executed sequentially.\n",
    "Notice that the end text is output while our thread executor tasks are still running.\n",
    "This is because the main() method is still an independent thread from the ExecutorService."
   ]
  },
  {
   "cell_type": "code",
   "execution_count": 2,
   "id": "cubic-shoulder",
   "metadata": {},
   "outputs": [
    {
     "name": "stdout",
     "output_type": "stream",
     "text": [
      "Begin.\n",
      "End.\n",
      "Printing zoo inventory \n",
      "Printing record: 0\n",
      "Printing record: 1\n",
      "Printing record: 2\n",
      "Printing zoo inventory \n",
      "\n",
      "Printing record: 0\n",
      "Printing record: 1\n",
      "\n",
      "Printing record: 2"
     ]
    }
   ],
   "source": [
    "        ExecutorService service = Executors.newSingleThreadExecutor();\n",
    "\n",
    "        Runnable task1 = () -> System.out.println(\"Printing zoo inventory \\n\");\n",
    "\n",
    "        Runnable task2 = () -> {\n",
    "            for (int i = 0; i < 3; i++) System.out.println(\"Printing record: \" + i);\n",
    "        };\n",
    "\n",
    "            try {\n",
    "                System.out.println(\"Begin.\");\n",
    "\n",
    "                service.execute(task1);\n",
    "                service.execute(task2);\n",
    "                service.execute(task1);\n",
    "                service.execute(task2);\n",
    "                System.out.println(\"End.\");\n",
    "            }finally {\n",
    "                if(service != null) service.shutdown();\n",
    "            }"
   ]
  },
  {
   "cell_type": "markdown",
   "id": "sudden-romania",
   "metadata": {},
   "source": [
    "###  SHUTTING DOWN A THREAD EXECUTOR\n"
   ]
  },
  {
   "cell_type": "markdown",
   "id": "amended-belize",
   "metadata": {},
   "source": [
    "\n",
    "     * The shutdown process for a thread executor involves first rejecting any new tasks submitted to the thread\n",
    "     * executor while continuing to execute any previously submitted tasks. During this time, calling isShutdown()\n",
    "     * will return true, while isTerminated() will return false\n",
    "     *\n",
    "     * If a new task is submitted to the thread executor while it is shutting down, a RejectedExecutionException\n",
    "     * will be thrown. Once all active tasks have been completed, isShutdown() and isTerminated() will both return \n",
    "     * true.\n",
    "     \n",
    "     * Table 18.2\n",
    "     *\n",
    "     *\n",
    "     * What if you want to cancel all running and upcoming tasks? The ExecutorService provides a method called\n",
    "     * shutdownNow(), which attempts to stop all running tasks and discards any that have not been started yet.\n",
    "     * It is possible to create a thread that will never terminate, so any attempt to interrupt it may be ignored.\n",
    "     * Lastly, shutdownNow() returns a List<Runnable> of tasks that were submitted to the thread executor but that\n",
    "     * were never started.\n",
    "     *\n",
    "     * "
   ]
  },
  {
   "cell_type": "code",
   "execution_count": null,
   "id": "living-illustration",
   "metadata": {},
   "outputs": [],
   "source": []
  },
  {
   "cell_type": "code",
   "execution_count": null,
   "id": "tropical-macintosh",
   "metadata": {},
   "outputs": [],
   "source": []
  }
 ],
 "metadata": {
  "kernelspec": {
   "display_name": "Java",
   "language": "java",
   "name": "java"
  },
  "language_info": {
   "codemirror_mode": "java",
   "file_extension": ".jshell",
   "mimetype": "text/x-java-source",
   "name": "Java",
   "pygments_lexer": "java",
   "version": "11.0.9.1+1-LTS"
  }
 },
 "nbformat": 4,
 "nbformat_minor": 5
}
